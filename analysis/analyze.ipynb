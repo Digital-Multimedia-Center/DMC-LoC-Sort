{
 "cells": [
  {
   "cell_type": "markdown",
   "metadata": {},
   "source": [
    "# DMC LCC Sort\n",
    "Many library databases have LCC call numbers stored as string literals which cannot be sorted with a simple sort since LCC reads left to right and normal sorts would go right to left. Even reversing the string, there's deficiencies.\n",
    "\n",
    "This project will probably contain an API that takes in a file and sorts by the LCC classification system and a frontend to upload files to get sorted.\n",
    "\n",
    "![LCC Classification System](https://upload.wikimedia.org/wikipedia/commons/thumb/2/2d/G%26G_LCC_Call_number.png/1599px-G%26G_LCC_Call_number.png)"
   ]
  },
  {
   "cell_type": "markdown",
   "metadata": {},
   "source": [
    "Importing and inspecting our input data and expected sort"
   ]
  },
  {
   "cell_type": "code",
   "execution_count": 6,
   "metadata": {},
   "outputs": [],
   "source": [
    "import pandas as pd\n",
    "import re\n",
    "\n",
    "raw_df = pd.read_csv(\"data/input.csv\")\n",
    "expected_df = pd.read_csv(\"data/expected.csv\")"
   ]
  },
  {
   "cell_type": "code",
   "execution_count": 7,
   "metadata": {},
   "outputs": [],
   "source": [
    "raw_call_numbers = raw_df[\"item_effective_call_number\"]\n",
    "expected_call_numbers = expected_df[\"item_effective_call_number\"]"
   ]
  },
  {
   "cell_type": "markdown",
   "metadata": {},
   "source": [
    "Attempting a simple sort"
   ]
  },
  {
   "cell_type": "code",
   "execution_count": 8,
   "metadata": {},
   "outputs": [],
   "source": [
    "sorted_call_numbers = raw_call_numbers.sort_values().reset_index(drop=True)\n",
    "\n",
    "simple_sort = pd.DataFrame({\n",
    "    \"sorted_call_numbers\": sorted_call_numbers,\n",
    "    \"expected_call_numbers\": expected_call_numbers \n",
    "})"
   ]
  },
  {
   "cell_type": "markdown",
   "metadata": {},
   "source": [
    "A simple sort doesn't work, as we can see here on `index 9`, call number `B105` is mismatched with the expected `B72`, because the regular sort goes right to left and puts `2004` before `2008`.\n",
    "\n",
    "`simple_sort`\n",
    "\n",
    "| Index | Raw Call Number              | Expected Call Number        |\n",
    "|-------|------------------------------|-----------------------------|\n",
    "| 9     | B105.A8 E24 2004 VideoDVD, 1 | B72.G73 A7 2008 VideoDVD, 1 |\n",
    "| 10    | B105.W6 F465 2009 VideoDVD, 1 | B105.A8 E24 2004 VideoDVD, 1 |\n",
    "| 11    | B105.W6 F465 2009 VideoDVD, 1 | B105.W6 F465 2009 VideoDVD, 1 |\n",
    "| 12    | B105.W6 F465 2009 VideoDVD, 1 | B105.W6 F465 2009 VideoDVD, 1 |\n",
    "| 13    | B105.W6 F465 2009 VideoDVD, 1 | B105.W6 F465 2009 VideoDVD, 1 |\n",
    "| 14    | B105.W6 F465 2009 VideoDVD, 1 | B105.W6 F465 2009 VideoDVD, 1 |\n",
    "| 15    | B105.W6 F465 2009 VideoDVD, 1 | B105.W6 F465 2009 VideoDVD, 1 |\n",
    "| 16    | B108 .R66 2002 VideoDVD, 1   | B105.W6 F465 2009 VideoDVD, 1 |\n",
    "| 17    | B108 .R66 2002 VideoDVD, 1   | B108.R66 2002 VideoDVD, 1   |\n",
    "\n",
    "\n",
    "The raw call numbers need cleaning. When comparing values, some have missing decimal places, like this:\n",
    "\n",
    "`simple_sort`\n",
    "\n",
    "| Index | Raw Call Number         | Expected Call Number    |\n",
    "|-------|-------------------------|-------------------------|\n",
    "| 0     | 137 529 THS, 1          | 137.529 THS, 1         |\n",
    "| 1     | 138 093 THS, 1          | 138.093 THS, 1         |\n"
   ]
  },
  {
   "cell_type": "markdown",
   "metadata": {},
   "source": [
    "Normalizing our call numbers"
   ]
  },
  {
   "cell_type": "code",
   "execution_count": 9,
   "metadata": {},
   "outputs": [
    {
     "name": "stdout",
     "output_type": "stream",
     "text": [
      "137 529 THS, 1\n",
      "137 529 THS, 1\n"
     ]
    }
   ],
   "source": [
    "def normalize_call_number(call_number):\n",
    "    call_number = re.sub(r'([A-Z]+) (\\d+)', r'\\1\\2', call_number)\n",
    "    call_number = re.sub(r'(\\d) \\.', r'\\1.', call_number)\n",
    "\n",
    "    return call_number\n",
    "\n",
    "raw_call_number = \"137 529 THS, 1\"\n",
    "fixed_call_number = normalize_call_number(raw_call_number)\n",
    "\n",
    "print(raw_call_number)\n",
    "print(fixed_call_number)"
   ]
  },
  {
   "cell_type": "code",
   "execution_count": 10,
   "metadata": {},
   "outputs": [],
   "source": [
    "normalized_raw_callnumbers = raw_call_numbers.apply(normalize_call_number)\n",
    "\n",
    "raw_vs_normalized = pd.DataFrame({\n",
    "    \"raw\": raw_call_numbers,\n",
    "    \"normalized\": normalized_raw_callnumbers\n",
    "})\n",
    "\n",
    "raw_vs_normalized_different = raw_vs_normalized[raw_vs_normalized[\"raw\"] != raw_vs_normalized[\"normalized\"]]\n",
    "\n",
    "raw_vs_normalized_different.reset_index(drop=True, inplace=True)"
   ]
  },
  {
   "cell_type": "markdown",
   "metadata": {},
   "source": [
    "`raw_vs_normalized_different`, shows all rows that have been been changed after normalization. Now that the rows have been normalized, we need a comparator made for the LoC classification."
   ]
  },
  {
   "cell_type": "code",
   "execution_count": 11,
   "metadata": {},
   "outputs": [
    {
     "name": "stdout",
     "output_type": "stream",
     "text": [
      "Warning: Couldn't parse call number: 137 529 THS, 1\n",
      "137 529 THS, 1 ['137 529 THS, 1']\n",
      "HV6049.O437 2005 VideoDVD, 1 ['HV', 6049, -1, 'O', 437, '', 0, 2005, 'VideoDVD, 1']\n",
      "PS3563.C3868 H68 1998 VideoDVD, 1 ['PS', 3563, -1, 'C', 3868, 'H', 68, 1998, 'VideoDVD, 1']\n"
     ]
    }
   ],
   "source": [
    "# Regex updated to capture trailing media or extra info as a literal group\n",
    "loc_regex = re.compile(r'''\n",
    "    ^\\s*\n",
    "    ([A-Z]{1,3})              # Class letters\n",
    "    ([0-9]{1,4})              # Class number\n",
    "    \\.?\n",
    "    ([0-9]{1,3})?             # Decimal subdivision (optional)\n",
    "    \\s*\\.?\n",
    "    ([A-Z]{1})                # First cutter letter\n",
    "    ([0-9]{1,})               # First cutter number\n",
    "    \\s*\n",
    "    (?:\n",
    "        ([A-Z]{1,2})          # Optional second cutter letter\n",
    "        ([0-9]{1,})?          # Optional second cutter number\n",
    "    )?\n",
    "    \\s*\n",
    "    ([0-9]{4})?               # Optional year\n",
    "    (.*)?                     # Trailing media\n",
    "''', re.VERBOSE)\n",
    "\n",
    "def loc_sort_key(call_number):\n",
    "    match = loc_regex.match(call_number)\n",
    "    if not match:\n",
    "        print(f\"Warning: Couldn't parse call number: {call_number}\")\n",
    "        return [call_number]\n",
    "\n",
    "    groups = match.groups()\n",
    "\n",
    "    class_letters     = groups[0] or ''\n",
    "    class_number      = int(groups[1]) if groups[1] else 0\n",
    "    decimal_part      = int(groups[2]) if groups[2] else -1\n",
    "    cutter1_letter    = groups[3] or ''\n",
    "    cutter1_number    = int(groups[4]) if groups[4] else 0\n",
    "    cutter2_letter    = groups[5] or ''\n",
    "    cutter2_number    = int(groups[6]) if groups[6] else 0\n",
    "    year              = int(groups[7]) if groups[7] else 0\n",
    "    trailing_info     = groups[8].strip() if groups[8] else ''\n",
    "\n",
    "    return [\n",
    "        class_letters,\n",
    "        class_number,\n",
    "        decimal_part,\n",
    "        cutter1_letter,\n",
    "        cutter1_number,\n",
    "        cutter2_letter,\n",
    "        cutter2_number,\n",
    "        year,\n",
    "        trailing_info\n",
    "    ]\n",
    "\n",
    "print(raw_call_number, loc_sort_key(raw_call_number))\n",
    "print(\"HV6049.O437 2005 VideoDVD, 1\", loc_sort_key(\"HV6049.O437 2005 VideoDVD, 1\"))\n",
    "print(\"PS3563.C3868 H68 1998 VideoDVD, 1\", loc_sort_key(\"PS3563.C3868 H68 1998 VideoDVD, 1\"))"
   ]
  },
  {
   "cell_type": "markdown",
   "metadata": {},
   "source": [
    "That first call number is a dewey decimal call number and therefore doesn't get parsed."
   ]
  },
  {
   "cell_type": "code",
   "execution_count": null,
   "metadata": {},
   "outputs": [],
   "source": [
    "raw_vs_normalized[\"loc_sort_key\"] = raw_vs_normalized[\"normalized\"].apply(loc_sort_key)\n",
    "raw_vs_normalized[\"sort_key_len\"] = raw_vs_normalized[\"loc_sort_key\"].apply(len)\n",
    "\n",
    "raw_vs_normalized.groupby(\"sort_key_len\", group_keys=False).apply(\n",
    "    lambda x: x.sample(n=min(len(x), 5), random_state=42)\n",
    ")\n",
    "\n",
    "normalized_sort = raw_vs_normalized.sort_values(by=\"loc_sort_key\", key=lambda x: x.apply(tuple))"
   ]
  },
  {
   "cell_type": "markdown",
   "metadata": {},
   "source": [
    "The above sort works for almost all values, barring 52 call number which is a small percentage."
   ]
  }
 ],
 "metadata": {
  "kernelspec": {
   "display_name": ".venv",
   "language": "python",
   "name": "python3"
  },
  "language_info": {
   "codemirror_mode": {
    "name": "ipython",
    "version": 3
   },
   "file_extension": ".py",
   "mimetype": "text/x-python",
   "name": "python",
   "nbconvert_exporter": "python",
   "pygments_lexer": "ipython3",
   "version": "3.13.5"
  }
 },
 "nbformat": 4,
 "nbformat_minor": 2
}
