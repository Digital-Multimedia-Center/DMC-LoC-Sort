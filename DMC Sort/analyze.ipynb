{
 "cells": [
  {
   "cell_type": "code",
   "execution_count": 1,
   "metadata": {},
   "outputs": [],
   "source": [
    "import pandas as pd\n",
    "\n",
    "raw_df = pd.read_csv(\"input.csv\")\n",
    "expected_df = pd.read_csv(\"expected.csv\")"
   ]
  },
  {
   "cell_type": "code",
   "execution_count": 2,
   "metadata": {},
   "outputs": [
    {
     "data": {
      "text/plain": [
       "['holdings_id',\n",
       " 'instance_created_date',\n",
       " 'instance_id',\n",
       " 'instance_primary_contributor',\n",
       " 'instance_title',\n",
       " 'instance_updated_date',\n",
       " 'item_barcode',\n",
       " 'item_level_call_number',\n",
       " 'item_level_call_number_typeid',\n",
       " 'item_level_call_number_type_name',\n",
       " 'item_copy_number',\n",
       " 'item_created_date',\n",
       " 'item_effective_call_number',\n",
       " 'item_effective_call_number_typeid',\n",
       " 'item_effective_call_number_type_name',\n",
       " 'item_effective_library_code',\n",
       " 'item_effective_library_id',\n",
       " 'item_effective_library_name',\n",
       " 'item_effective_location_id',\n",
       " 'item_effective_location_name',\n",
       " 'item_hrid',\n",
       " 'id',\n",
       " 'item_material_type_id',\n",
       " 'item_material_type',\n",
       " 'item_permanent_location_id',\n",
       " 'item_permanent_location_name',\n",
       " 'item_statistical_code_ids',\n",
       " 'item_statistical_codes',\n",
       " 'item_status',\n",
       " 'item_temporary_location_id',\n",
       " 'item_temporary_location_name',\n",
       " 'item_updated_date']"
      ]
     },
     "execution_count": 2,
     "metadata": {},
     "output_type": "execute_result"
    }
   ],
   "source": [
    "raw_df.columns.to_list()"
   ]
  },
  {
   "cell_type": "code",
   "execution_count": 3,
   "metadata": {},
   "outputs": [],
   "source": [
    "raw_call_numbers = raw_df[\"item_effective_call_number\"]\n",
    "expected_call_numbers = expected_df[\"item_effective_call_number\"]"
   ]
  },
  {
   "cell_type": "code",
   "execution_count": 4,
   "metadata": {},
   "outputs": [],
   "source": [
    "sorted_call_numbers = raw_call_numbers.sort_values().reset_index(drop=True)\n",
    "expected_call_numbers_copy = expected_call_numbers.reset_index(drop=True)\n",
    "\n",
    "my_sort = pd.DataFrame({\n",
    "    \"sorted_call_numbers\": sorted_call_numbers,\n",
    "    \"expected_call_numbers\": expected_call_numbers_copy\n",
    "})\n"
   ]
  },
  {
   "cell_type": "markdown",
   "metadata": {},
   "source": [
    "The raw call numbers need cleaning. When comparing values, some have missing decimal places, like this:\n",
    "\n",
    "my_sort\n",
    "\n",
    "| Index | Raw Call Number         | Expected Call Number    |\n",
    "|-------|-------------------------|-------------------------|\n",
    "| 0     | 137 529 THS, 1          | 137.529 THS, 1         |\n",
    "| 1     | 138 093 THS, 1          | 138.093 THS, 1         |\n",
    "\n",
    "and some values are sorted correctly because the sort is done as a string comparison instead of the LoC way\n",
    "\n",
    "| Index | Raw Call Number              | Expected Call Number        |\n",
    "|-------|------------------------------|-----------------------------|\n",
    "| 9     | B105.A8 E24 2004 VideoDVD, 1 | B72.G73 A7 2008 VideoDVD, 1 |\n",
    "| 10    | B105.W6 F465 2009 VideoDVD, 1 | B105.A8 E24 2004 VideoDVD, 1 |\n",
    "| 11    | B105.W6 F465 2009 VideoDVD, 1 | B105.W6 F465 2009 VideoDVD, 1 |\n",
    "| 12    | B105.W6 F465 2009 VideoDVD, 1 | B105.W6 F465 2009 VideoDVD, 1 |\n",
    "| 13    | B105.W6 F465 2009 VideoDVD, 1 | B105.W6 F465 2009 VideoDVD, 1 |\n",
    "| 14    | B105.W6 F465 2009 VideoDVD, 1 | B105.W6 F465 2009 VideoDVD, 1 |\n",
    "| 15    | B105.W6 F465 2009 VideoDVD, 1 | B105.W6 F465 2009 VideoDVD, 1 |\n",
    "| 16    | B108 .R66 2002 VideoDVD, 1   | B105.W6 F465 2009 VideoDVD, 1 |\n",
    "| 17    | B108 .R66 2002 VideoDVD, 1   | B108.R66 2002 VideoDVD, 1   |\n",
    "\n"
   ]
  },
  {
   "cell_type": "code",
   "execution_count": null,
   "metadata": {},
   "outputs": [],
   "source": [
    "import re\n",
    "\n",
    "def normalize_call_number(call_number):\n",
    "    # Remove space between opening letters and numbers (e.g., \"PR 1109\" → \"PR1109\")\n",
    "    call_number = re.sub(r'([A-Z]+) (\\d+)', r'\\1\\2', call_number)\n",
    "\n",
    "    # Remove space before the first period (e.g., \"PR1109 .A2\" → \"PR1109.A2\")\n",
    "    call_number = re.sub(r'(\\d) \\.', r'\\1.', call_number)\n",
    "\n",
    "    return call_number\n",
    "\n",
    "normalized_raw_callnumbers = raw_call_numbers.apply(normalize_call_number)\n",
    "\n",
    "normalization_compare = pd.DataFrame({\n",
    "    \"raw\": raw_call_numbers,\n",
    "    \"normalized\": normalized_raw_callnumbers\n",
    "})\n",
    "\n",
    "normalization_compare = normalization_compare[normalization_compare[\"raw\"] != normalization_compare[\"normalized\"]]\n",
    "\n",
    "normalization_compare.reset_index(drop=True, inplace=True)"
   ]
  },
  {
   "cell_type": "code",
   "execution_count": null,
   "metadata": {},
   "outputs": [
    {
     "name": "stdout",
     "output_type": "stream",
     "text": [
      "PN1995.9.C47 T8 2005 VideoDVD, 1\n"
     ]
    }
   ],
   "source": [
    "import re\n",
    "\n",
    "def fix_old_call_number_format(call_number):\n",
    "    # Remove space between opening letters and numbers (e.g., \"PR 1109\" → \"PR1109\")\n",
    "    call_number = re.sub(r'([A-Z]+) (\\d+)', r'\\1\\2', call_number)\n",
    "\n",
    "    # Remove space before the first period (e.g., \"PR1109 .A2\" → \"PR1109.A2\")\n",
    "    call_number = re.sub(r'(\\d) \\.', r'\\1.', call_number)\n",
    "\n",
    "    return call_number\n",
    "\n",
    "# Example usage\n",
    "raw_call_number = \"PN1995.9.C47 T8 2005 VideoDVD, 1\"\n",
    "fixed_call_number = fix_old_call_number_format(raw_call_number)\n",
    "\n",
    "print(fixed_call_number)  # Expected: \"PR1109.A2 2006\"\n"
   ]
  },
  {
   "cell_type": "markdown",
   "metadata": {},
   "source": [
    "Post Cleaning, lets sort with an LoC library"
   ]
  },
  {
   "cell_type": "code",
   "execution_count": null,
   "metadata": {},
   "outputs": [
    {
     "ename": "TypeError",
     "evalue": "'<' not supported between instances of 'float' and 'str'",
     "output_type": "error",
     "traceback": [
      "\u001b[31m---------------------------------------------------------------------------\u001b[39m",
      "\u001b[31mTypeError\u001b[39m                                 Traceback (most recent call last)",
      "\u001b[36mCell\u001b[39m\u001b[36m \u001b[39m\u001b[32mIn[16]\u001b[39m\u001b[32m, line 26\u001b[39m\n\u001b[32m     22\u001b[39m \u001b[38;5;66;03m# Reset index for clean display\u001b[39;00m\n\u001b[32m     23\u001b[39m normalization_compare.reset_index(drop=\u001b[38;5;28;01mTrue\u001b[39;00m, inplace=\u001b[38;5;28;01mTrue\u001b[39;00m)\n\u001b[32m---> \u001b[39m\u001b[32m26\u001b[39m my_sort[\u001b[33m\"\u001b[39m\u001b[33mNormalized LoC Sort\u001b[39m\u001b[33m\"\u001b[39m] = \u001b[43mnormalized_raw_callnumbers\u001b[49m\u001b[43m.\u001b[49m\u001b[43msort_values\u001b[49m\u001b[43m(\u001b[49m\u001b[43mkey\u001b[49m\u001b[43m=\u001b[49m\u001b[38;5;28;43;01mlambda\u001b[39;49;00m\u001b[43m \u001b[49m\u001b[43mx\u001b[49m\u001b[43m:\u001b[49m\u001b[43m \u001b[49m\u001b[43mx\u001b[49m\u001b[43m.\u001b[49m\u001b[43mmap\u001b[49m\u001b[43m(\u001b[49m\u001b[43mloc_sort_key\u001b[49m\u001b[43m)\u001b[49m\u001b[43m)\u001b[49m\n",
      "\u001b[36mFile \u001b[39m\u001b[32m~/Desktop/Repositories/DMC-LoC-Sort/DMC Sort/.venv/lib/python3.13/site-packages/pandas/core/series.py:3869\u001b[39m, in \u001b[36mSeries.sort_values\u001b[39m\u001b[34m(self, axis, ascending, inplace, kind, na_position, ignore_index, key)\u001b[39m\n\u001b[32m   3867\u001b[39m \u001b[38;5;28;01melse\u001b[39;00m:\n\u001b[32m   3868\u001b[39m     values_to_sort = \u001b[38;5;28mself\u001b[39m._values\n\u001b[32m-> \u001b[39m\u001b[32m3869\u001b[39m sorted_index = \u001b[43mnargsort\u001b[49m\u001b[43m(\u001b[49m\u001b[43mvalues_to_sort\u001b[49m\u001b[43m,\u001b[49m\u001b[43m \u001b[49m\u001b[43mkind\u001b[49m\u001b[43m,\u001b[49m\u001b[43m \u001b[49m\u001b[38;5;28;43mbool\u001b[39;49m\u001b[43m(\u001b[49m\u001b[43mascending\u001b[49m\u001b[43m)\u001b[49m\u001b[43m,\u001b[49m\u001b[43m \u001b[49m\u001b[43mna_position\u001b[49m\u001b[43m)\u001b[49m\n\u001b[32m   3871\u001b[39m \u001b[38;5;28;01mif\u001b[39;00m is_range_indexer(sorted_index, \u001b[38;5;28mlen\u001b[39m(sorted_index)):\n\u001b[32m   3872\u001b[39m     \u001b[38;5;28;01mif\u001b[39;00m inplace:\n",
      "\u001b[36mFile \u001b[39m\u001b[32m~/Desktop/Repositories/DMC-LoC-Sort/DMC Sort/.venv/lib/python3.13/site-packages/pandas/core/sorting.py:439\u001b[39m, in \u001b[36mnargsort\u001b[39m\u001b[34m(items, kind, ascending, na_position, key, mask)\u001b[39m\n\u001b[32m    437\u001b[39m     non_nans = non_nans[::-\u001b[32m1\u001b[39m]\n\u001b[32m    438\u001b[39m     non_nan_idx = non_nan_idx[::-\u001b[32m1\u001b[39m]\n\u001b[32m--> \u001b[39m\u001b[32m439\u001b[39m indexer = non_nan_idx[\u001b[43mnon_nans\u001b[49m\u001b[43m.\u001b[49m\u001b[43margsort\u001b[49m\u001b[43m(\u001b[49m\u001b[43mkind\u001b[49m\u001b[43m=\u001b[49m\u001b[43mkind\u001b[49m\u001b[43m)\u001b[49m]\n\u001b[32m    440\u001b[39m \u001b[38;5;28;01mif\u001b[39;00m \u001b[38;5;129;01mnot\u001b[39;00m ascending:\n\u001b[32m    441\u001b[39m     indexer = indexer[::-\u001b[32m1\u001b[39m]\n",
      "\u001b[31mTypeError\u001b[39m: '<' not supported between instances of 'float' and 'str'"
     ]
    }
   ],
   "source": [
    "import re\n",
    "import pandas as pd\n",
    "\n",
    "def loc_sort_key(call_number):\n",
    "    \"\"\"\n",
    "    Generate a key for sorting LoC call numbers.\n",
    "    - Splits letters, numbers, and decimals correctly.\n",
    "    - Ensures proper numeric sorting.\n",
    "    \"\"\"\n",
    "    parts = re.findall(r'[A-Za-z]+|\\d+\\.\\d+|\\d+', call_number)\n",
    "    return [(part if part.isalpha() else float(part)) for part in parts]\n",
    "\n",
    "# Sample DataFrame\n",
    "normalization_compare = pd.DataFrame({\n",
    "    \"raw\": [\"PR 1109 .A2 2006\", \"PN 1995.9 .C47 T8 2005\", \"AE 17 .Z4672 2009\"],\n",
    "    \"normalized\": [\"PR1109.A2 2006\", \"PN1995.9.C47 T8 2005\", \"AE17.Z4672 2009\"]\n",
    "})\n",
    "\n",
    "# Sort based on the normalized LoC call numbers\n",
    "normalization_compare = normalization_compare.sort_values(by=\"normalized\", key=lambda x: x.map(loc_sort_key))\n",
    "\n",
    "# Reset index for clean display\n",
    "normalization_compare.reset_index(drop=True, inplace=True)"
   ]
  }
 ],
 "metadata": {
  "kernelspec": {
   "display_name": ".venv",
   "language": "python",
   "name": "python3"
  },
  "language_info": {
   "codemirror_mode": {
    "name": "ipython",
    "version": 3
   },
   "file_extension": ".py",
   "mimetype": "text/x-python",
   "name": "python",
   "nbconvert_exporter": "python",
   "pygments_lexer": "ipython3",
   "version": "3.13.1"
  }
 },
 "nbformat": 4,
 "nbformat_minor": 2
}
