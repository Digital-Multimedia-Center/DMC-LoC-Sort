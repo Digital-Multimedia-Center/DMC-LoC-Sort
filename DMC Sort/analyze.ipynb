{
 "cells": [
  {
   "cell_type": "code",
   "execution_count": 1,
   "metadata": {},
   "outputs": [],
   "source": [
    "import pandas as pd\n",
    "import re\n",
    "\n",
    "raw_df = pd.read_csv(\"input.csv\")\n",
    "expected_df = pd.read_csv(\"expected.csv\")"
   ]
  },
  {
   "cell_type": "code",
   "execution_count": 2,
   "metadata": {},
   "outputs": [
    {
     "data": {
      "text/plain": [
       "['holdings_id',\n",
       " 'instance_created_date',\n",
       " 'instance_id',\n",
       " 'instance_primary_contributor',\n",
       " 'instance_title',\n",
       " 'instance_updated_date',\n",
       " 'item_barcode',\n",
       " 'item_level_call_number',\n",
       " 'item_level_call_number_typeid',\n",
       " 'item_level_call_number_type_name',\n",
       " 'item_copy_number',\n",
       " 'item_created_date',\n",
       " 'item_effective_call_number',\n",
       " 'item_effective_call_number_typeid',\n",
       " 'item_effective_call_number_type_name',\n",
       " 'item_effective_library_code',\n",
       " 'item_effective_library_id',\n",
       " 'item_effective_library_name',\n",
       " 'item_effective_location_id',\n",
       " 'item_effective_location_name',\n",
       " 'item_hrid',\n",
       " 'id',\n",
       " 'item_material_type_id',\n",
       " 'item_material_type',\n",
       " 'item_permanent_location_id',\n",
       " 'item_permanent_location_name',\n",
       " 'item_statistical_code_ids',\n",
       " 'item_statistical_codes',\n",
       " 'item_status',\n",
       " 'item_temporary_location_id',\n",
       " 'item_temporary_location_name',\n",
       " 'item_updated_date']"
      ]
     },
     "execution_count": 2,
     "metadata": {},
     "output_type": "execute_result"
    }
   ],
   "source": [
    "raw_df.columns.to_list()"
   ]
  },
  {
   "cell_type": "code",
   "execution_count": 3,
   "metadata": {},
   "outputs": [],
   "source": [
    "raw_call_numbers = raw_df[\"item_effective_call_number\"]\n",
    "expected_call_numbers = expected_df[\"item_effective_call_number\"]"
   ]
  },
  {
   "cell_type": "code",
   "execution_count": 4,
   "metadata": {},
   "outputs": [],
   "source": [
    "sorted_call_numbers = raw_call_numbers.sort_values().reset_index(drop=True)\n",
    "expected_call_numbers_copy = expected_call_numbers.reset_index(drop=True)\n",
    "\n",
    "simple_sort = pd.DataFrame({\n",
    "    \"sorted_call_numbers\": sorted_call_numbers,\n",
    "    \"expected_call_numbers\": expected_call_numbers_copy\n",
    "})\n"
   ]
  },
  {
   "cell_type": "markdown",
   "metadata": {},
   "source": [
    "The raw call numbers need cleaning. When comparing values, some have missing decimal places, like this:\n",
    "\n",
    "my_sort\n",
    "\n",
    "| Index | Raw Call Number         | Expected Call Number    |\n",
    "|-------|-------------------------|-------------------------|\n",
    "| 0     | 137 529 THS, 1          | 137.529 THS, 1         |\n",
    "| 1     | 138 093 THS, 1          | 138.093 THS, 1         |\n",
    "\n",
    "and some values are sorted incorrectly because the sort is done as a string comparison instead of the LoC way\n",
    "\n",
    "| Index | Raw Call Number              | Expected Call Number        |\n",
    "|-------|------------------------------|-----------------------------|\n",
    "| 9     | B105.A8 E24 2004 VideoDVD, 1 | B72.G73 A7 2008 VideoDVD, 1 |\n",
    "| 10    | B105.W6 F465 2009 VideoDVD, 1 | B105.A8 E24 2004 VideoDVD, 1 |\n",
    "| 11    | B105.W6 F465 2009 VideoDVD, 1 | B105.W6 F465 2009 VideoDVD, 1 |\n",
    "| 12    | B105.W6 F465 2009 VideoDVD, 1 | B105.W6 F465 2009 VideoDVD, 1 |\n",
    "| 13    | B105.W6 F465 2009 VideoDVD, 1 | B105.W6 F465 2009 VideoDVD, 1 |\n",
    "| 14    | B105.W6 F465 2009 VideoDVD, 1 | B105.W6 F465 2009 VideoDVD, 1 |\n",
    "| 15    | B105.W6 F465 2009 VideoDVD, 1 | B105.W6 F465 2009 VideoDVD, 1 |\n",
    "| 16    | B108 .R66 2002 VideoDVD, 1   | B105.W6 F465 2009 VideoDVD, 1 |\n",
    "| 17    | B108 .R66 2002 VideoDVD, 1   | B108.R66 2002 VideoDVD, 1   |\n",
    "\n"
   ]
  },
  {
   "cell_type": "code",
   "execution_count": 5,
   "metadata": {},
   "outputs": [
    {
     "data": {
      "text/plain": [
       "'PN1995.9.C47 T8 2005 VideoDVD, 1'"
      ]
     },
     "execution_count": 5,
     "metadata": {},
     "output_type": "execute_result"
    }
   ],
   "source": [
    "def normalize_call_number(call_number):\n",
    "    # Remove space between opening letters and numbers (e.g., \"PR 1109\" -> \"PR1109\")\n",
    "    call_number = re.sub(r'([A-Z]+) (\\d+)', r'\\1\\2', call_number)\n",
    "\n",
    "    # Remove space before the first period (e.g., \"PR1109 .A2\" -> \"PR1109.A2\")\n",
    "    call_number = re.sub(r'(\\d) \\.', r'\\1.', call_number)\n",
    "\n",
    "    return call_number\n",
    "\n",
    "raw_call_number = \"PN1995.9.C47 T8 2005 VideoDVD, 1\"\n",
    "fixed_call_number = normalize_call_number(raw_call_number)\n",
    "\n",
    "fixed_call_number"
   ]
  },
  {
   "cell_type": "code",
   "execution_count": 6,
   "metadata": {},
   "outputs": [],
   "source": [
    "normalized_raw_callnumbers = raw_call_numbers.apply(normalize_call_number)\n",
    "\n",
    "raw_vs_normalized = pd.DataFrame({\n",
    "    \"raw\": raw_call_numbers,\n",
    "    \"normalized\": normalized_raw_callnumbers\n",
    "})\n",
    "\n",
    "raw_vs_normalized_different = raw_vs_normalized[raw_vs_normalized[\"raw\"] != raw_vs_normalized[\"normalized\"]]\n",
    "\n",
    "raw_vs_normalized_different.reset_index(drop=True, inplace=True)"
   ]
  },
  {
   "cell_type": "markdown",
   "metadata": {},
   "source": [
    "`raw_vs_normalized_different`, shows all rows that have been been changed after normalization. Now that the rows have been normalized, we need a comparator made for the LoC classification."
   ]
  },
  {
   "cell_type": "code",
   "execution_count": 36,
   "metadata": {},
   "outputs": [
    {
     "name": "stdout",
     "output_type": "stream",
     "text": [
      "PN1995.9.C47 T8 2005 VideoDVD, 1 ['PN', '1995.9', 'C', '47', 'T', '8', '2005', 'VideoDVD', '1']\n",
      "HV6049.O437 2005 VideoDVD, 1 ['HV', '6049', 'O', '437', '2005', 'VideoDVD', '1']\n",
      "PS3563.C3868 H68 1998 VideoDVD, 1 ['PS', '3563', 'C', '3868', 'H', '68', '1998', 'VideoDVD', '1']\n"
     ]
    }
   ],
   "source": [
    "def loc_sort_key(call_number):\n",
    "    \"\"\"\n",
    "    Generate a key for sorting LoC call numbers.\n",
    "    - Ensures consistent structure by padding missing sections.\n",
    "    - Splits letters, numbers, and decimals correctly.\n",
    "    \"\"\"\n",
    "    parts = re.findall(r'[A-Za-z]+|\\d+\\.\\d+|\\d+', call_number)\n",
    "\n",
    "    # Convert numeric parts to float, keep letters as-is\n",
    "    processed_parts = [(part if part.isalpha() else float(part)) for part in parts]\n",
    "    processed_parts = [part for part in parts]\n",
    "\n",
    "    return processed_parts\n",
    "\n",
    "\n",
    "print(raw_call_number, loc_sort_key(raw_call_number))\n",
    "\n",
    "print(\"HV6049.O437 2005 VideoDVD, 1\", loc_sort_key(\"HV6049.O437 2005 VideoDVD, 1\"))\n",
    "print(\"PS3563.C3868 H68 1998 VideoDVD, 1\", loc_sort_key(\"PS3563.C3868 H68 1998 VideoDVD, 1\"))"
   ]
  },
  {
   "cell_type": "code",
   "execution_count": 38,
   "metadata": {},
   "outputs": [
    {
     "name": "stderr",
     "output_type": "stream",
     "text": [
      "/var/folders/r7/zs0r39wj3jjgsrj0zy75r9d40000gn/T/ipykernel_53041/2228980848.py:4: DeprecationWarning: DataFrameGroupBy.apply operated on the grouping columns. This behavior is deprecated, and in a future version of pandas the grouping columns will be excluded from the operation. Either pass `include_groups=False` to exclude the groupings or explicitly select the grouping columns after groupby to silence this warning.\n",
      "  raw_vs_normalized.groupby(\"sort_key_len\", group_keys=False).apply(\n"
     ]
    }
   ],
   "source": [
    "raw_vs_normalized[\"loc_sort_key\"] = raw_vs_normalized[\"normalized\"].apply(loc_sort_key)\n",
    "raw_vs_normalized[\"sort_key_len\"] = raw_vs_normalized[\"loc_sort_key\"].apply(len)\n",
    "\n",
    "raw_vs_normalized.groupby(\"sort_key_len\", group_keys=False).apply(\n",
    "    lambda x: x.sample(n=min(len(x), 5), random_state=42)\n",
    ")\n",
    "\n",
    "\n",
    "normalized_sort = raw_vs_normalized.sort_values(by=\"loc_sort_key\", key=lambda x: x.apply(tuple))"
   ]
  }
 ],
 "metadata": {
  "kernelspec": {
   "display_name": ".venv",
   "language": "python",
   "name": "python3"
  },
  "language_info": {
   "codemirror_mode": {
    "name": "ipython",
    "version": 3
   },
   "file_extension": ".py",
   "mimetype": "text/x-python",
   "name": "python",
   "nbconvert_exporter": "python",
   "pygments_lexer": "ipython3",
   "version": "3.13.1"
  }
 },
 "nbformat": 4,
 "nbformat_minor": 2
}
